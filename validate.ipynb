{
 "cells": [
  {
   "cell_type": "code",
   "execution_count": 6,
   "metadata": {},
   "outputs": [
    {
     "name": "stderr",
     "output_type": "stream",
     "text": [
      "23/08/04 19:46:36 WARN NativeCodeLoader: Unable to load native-hadoop library for your platform... using builtin-java classes where applicable\n",
      "Using Spark's default log4j profile: org/apache/spark/log4j-defaults.properties\n",
      "Setting default log level to \"WARN\".\n",
      "To adjust logging level use sc.setLogLevel(newLevel). For SparkR, use setLogLevel(newLevel).\n",
      "23/08/04 19:46:42 WARN Utils: Service 'SparkUI' could not bind on port 4040. Attempting port 4041.\n"
     ]
    },
    {
     "data": {
      "text/html": [
       "\n",
       "            <div>\n",
       "                <p><b>SparkSession - in-memory</b></p>\n",
       "                \n",
       "        <div>\n",
       "            <p><b>SparkContext</b></p>\n",
       "\n",
       "            <p><a href=\"http://192.168.1.35:4041\">Spark UI</a></p>\n",
       "\n",
       "            <dl>\n",
       "              <dt>Version</dt>\n",
       "                <dd><code>v3.0.3</code></dd>\n",
       "              <dt>Master</dt>\n",
       "                <dd><code>local[*]</code></dd>\n",
       "              <dt>AppName</dt>\n",
       "                <dd><code>app1</code></dd>\n",
       "            </dl>\n",
       "        </div>\n",
       "        \n",
       "            </div>\n",
       "        "
      ],
      "text/plain": [
       "<pyspark.sql.session.SparkSession at 0x111a758d0>"
      ]
     },
     "execution_count": 6,
     "metadata": {},
     "output_type": "execute_result"
    }
   ],
   "source": [
    "from pyspark.sql import SparkSession\n",
    "spark = SparkSession.builder.appName(\"app1\").getOrCreate()\n",
    "spark"
   ]
  },
  {
   "cell_type": "code",
   "execution_count": 20,
   "metadata": {},
   "outputs": [],
   "source": [
    "from pyspark.sql.functions import col \n",
    "def validate_nulls(df, columns_to_validate):\n",
    "    for col_name in columns_to_validate:\n",
    "        df = df.withColumn(col_name+\"_is_valid\", col(col_name).isNotNull())\n",
    "    return df\n",
    "\n",
    "def count_match_validation(raw_df, refined_df):\n",
    "    raw_count = raw_df.count()\n",
    "    refined_count = refined_df.count()\n",
    "    count_match = raw_count == refined_count\n",
    "    validation_result = \"Count match\" if count_match else \"Counts do not match\"\n",
    "    return validation_result"
   ]
  },
  {
   "cell_type": "code",
   "execution_count": 8,
   "metadata": {},
   "outputs": [
    {
     "name": "stderr",
     "output_type": "stream",
     "text": [
      "                                                                                \r"
     ]
    },
    {
     "name": "stdout",
     "output_type": "stream",
     "text": [
      "+-------+----+\n",
      "|   name| age|\n",
      "+-------+----+\n",
      "|  Alice|  30|\n",
      "|    Bob|null|\n",
      "|Charlie|  25|\n",
      "+-------+----+\n",
      "\n"
     ]
    }
   ],
   "source": [
    "def get_df():    \n",
    "    data = [(\"Alice\", 30),\n",
    "            (\"Bob\", None),\n",
    "            (\"Charlie\", 25)]\n",
    "    columns = [\"name\", \"age\"]\n",
    "    df = spark.createDataFrame(data, columns)\n",
    "    return df \n",
    "\n",
    "df = get_df()\n",
    "df.show()"
   ]
  },
  {
   "cell_type": "code",
   "execution_count": 9,
   "metadata": {},
   "outputs": [
    {
     "data": {
      "text/plain": [
       "['name', 'age']"
      ]
     },
     "execution_count": 9,
     "metadata": {},
     "output_type": "execute_result"
    }
   ],
   "source": [
    "columns_to_validate = [\"name\",\"age\"]\n",
    "columns_to_validate"
   ]
  },
  {
   "cell_type": "code",
   "execution_count": 12,
   "metadata": {},
   "outputs": [
    {
     "name": "stdout",
     "output_type": "stream",
     "text": [
      "+-------+----+-------------+------------+\n",
      "|   name| age|name_is_valid|age_is_valid|\n",
      "+-------+----+-------------+------------+\n",
      "|  Alice|  30|         true|        true|\n",
      "|    Bob|null|         true|       false|\n",
      "|Charlie|  25|         true|        true|\n",
      "+-------+----+-------------+------------+\n",
      "\n"
     ]
    }
   ],
   "source": [
    "### Apply validation functions \n",
    "validated_df = validate_nulls(df, columns_to_validate)\n",
    "validated_df.show()"
   ]
  },
  {
   "cell_type": "code",
   "execution_count": 13,
   "metadata": {},
   "outputs": [
    {
     "ename": "SyntaxError",
     "evalue": "invalid syntax (826937797.py, line 1)",
     "output_type": "error",
     "traceback": [
      "\u001b[0;36m  File \u001b[0;32m\"/var/folders/kk/vsk5n5vj28n42f90qn__wm7w0000gn/T/ipykernel_19828/826937797.py\"\u001b[0;36m, line \u001b[0;32m1\u001b[0m\n\u001b[0;31m    Define validation rules for each column. These rules can be functions that check for specific conditions,\u001b[0m\n\u001b[0m                    ^\u001b[0m\n\u001b[0;31mSyntaxError\u001b[0m\u001b[0;31m:\u001b[0m invalid syntax\n"
     ]
    }
   ],
   "source": [
    "Define validation rules for each column. These rules can be functions that check for specific conditions,\n",
    " such as \n",
    "data type checks, \n",
    "range checks,\n",
    "null checks, \n",
    "pattern checks, etc."
   ]
  },
  {
   "cell_type": "code",
   "execution_count": 15,
   "metadata": {},
   "outputs": [
    {
     "name": "stdout",
     "output_type": "stream",
     "text": [
      "+-------+----+\n",
      "|   name| age|\n",
      "+-------+----+\n",
      "|  Alice|  30|\n",
      "|    Bob|null|\n",
      "|Charlie|  25|\n",
      "+-------+----+\n",
      "\n",
      "+-------+---+\n",
      "|   name|age|\n",
      "+-------+---+\n",
      "|  Alice| 30|\n",
      "|Charlie| 25|\n",
      "+-------+---+\n",
      "\n"
     ]
    }
   ],
   "source": [
    "raw_data = [(\"Alice\", 30), (\"Bob\", None), (\"Charlie\", 25)]\n",
    "refined_data = [(\"Alice\", 30), (\"Charlie\", 25)]\n",
    "\n",
    "columns = [\"name\", \"age\"]\n",
    "raw_df = spark.createDataFrame(raw_data, columns)\n",
    "refined_df = spark.createDataFrame(refined_data, columns)\n",
    "\n",
    "raw_df.show()\n",
    "refined_df.show()"
   ]
  },
  {
   "cell_type": "code",
   "execution_count": 21,
   "metadata": {},
   "outputs": [
    {
     "name": "stdout",
     "output_type": "stream",
     "text": [
      "+-------+----+-------------+------------+\n",
      "|   name| age|name_is_valid|age_is_valid|\n",
      "+-------+----+-------------+------------+\n",
      "|  Alice|  30|         true|        true|\n",
      "|    Bob|null|         true|       false|\n",
      "|Charlie|  25|         true|        true|\n",
      "+-------+----+-------------+------------+\n",
      "\n",
      "+-------+---+-------------+------------+\n",
      "|   name|age|name_is_valid|age_is_valid|\n",
      "+-------+---+-------------+------------+\n",
      "|  Alice| 30|         true|        true|\n",
      "|Charlie| 25|         true|        true|\n",
      "+-------+---+-------------+------------+\n",
      "\n"
     ]
    }
   ],
   "source": [
    "columns_to_validate = [\"name\", \"age\"]\n",
    "\n",
    "validated_raw_df = validate_nulls(raw_df, columns_to_validate)\n",
    "validated_raw_df.show()\n",
    "\n",
    "validated_refined_df = validate_nulls(refined_df, columns_to_validate)\n",
    "validated_refined_df.show()\n"
   ]
  },
  {
   "cell_type": "code",
   "execution_count": 23,
   "metadata": {},
   "outputs": [
    {
     "data": {
      "text/plain": [
       "'Counts do not match'"
      ]
     },
     "execution_count": 23,
     "metadata": {},
     "output_type": "execute_result"
    }
   ],
   "source": [
    "validation_result = count_match_validation(validated_raw_df, validated_refined_df)\n",
    "validation_result"
   ]
  },
  {
   "cell_type": "code",
   "execution_count": 24,
   "metadata": {},
   "outputs": [],
   "source": [
    "def compare_layers(raw_df, refined_df, key_column, columns_to_compare):\n",
    "    # Join the DataFrames based on the key column\n",
    "    joined_df = raw_df.join(refined_df, on=key_column)\n",
    "\n",
    "    # Compare the columns and create a new column indicating the comparison result\n",
    "    comparison_exprs = [when(col(f\"{raw_df[col]}\") == col(f\"{refined_df[col]}\"), True).otherwise(False).alias(col)\n",
    "                        for col in columns_to_compare]\n",
    "\n",
    "\n",
    "    compared_df = joined_df.select(\"*\", *comparison_exprs)\n",
    "\n",
    "    return compared_df\n"
   ]
  },
  {
   "cell_type": "code",
   "execution_count": 56,
   "metadata": {},
   "outputs": [],
   "source": [
    "raw_data = [(1, \"Alice\", 30), (2, \"Bob\", None), (3, \"Charlie\", 25)]\n",
    "refined_data = [(1, \"Alice\", 30), (2, \"Bob\", 28), (3, \"Charlie\", 25)]\n",
    "\n",
    "raw_columns = [\"id\", \"a_name\", \"a_age\"]\n",
    "refined_columns = [\"id\", \"b_name\", \"b_age\"]"
   ]
  },
  {
   "cell_type": "code",
   "execution_count": 57,
   "metadata": {},
   "outputs": [
    {
     "name": "stdout",
     "output_type": "stream",
     "text": [
      "+---+-------+-----+\n",
      "| id| a_name|a_age|\n",
      "+---+-------+-----+\n",
      "|  1|  Alice|   30|\n",
      "|  2|    Bob| null|\n",
      "|  3|Charlie|   25|\n",
      "+---+-------+-----+\n",
      "\n",
      "+---+-------+-----+\n",
      "| id| b_name|b_age|\n",
      "+---+-------+-----+\n",
      "|  1|  Alice|   30|\n",
      "|  2|    Bob|   28|\n",
      "|  3|Charlie|   25|\n",
      "+---+-------+-----+\n",
      "\n"
     ]
    }
   ],
   "source": [
    "raw_df = spark.createDataFrame(raw_data, raw_columns)\n",
    "refined_df = spark.createDataFrame(refined_data, refined_columns)\n",
    "\n",
    " # Define the key column and columns to compare\n",
    "key_column = \"id\"\n",
    "columns_to_compare = [\"name\", \"age\"]\n",
    "\n",
    "raw_df.show()\n",
    "refined_df.show()"
   ]
  },
  {
   "cell_type": "code",
   "execution_count": 58,
   "metadata": {},
   "outputs": [
    {
     "name": "stdout",
     "output_type": "stream",
     "text": [
      "+---+-------+-----+-------+-----+\n",
      "| id| a_name|a_age| b_name|b_age|\n",
      "+---+-------+-----+-------+-----+\n",
      "|  1|  Alice|   30|  Alice|   30|\n",
      "|  3|Charlie|   25|Charlie|   25|\n",
      "|  2|    Bob| null|    Bob|   28|\n",
      "+---+-------+-----+-------+-----+\n",
      "\n"
     ]
    }
   ],
   "source": [
    "joined_df = raw_df.join(refined_df, on=key_column)\n",
    "joined_df.show()"
   ]
  },
  {
   "cell_type": "code",
   "execution_count": 61,
   "metadata": {},
   "outputs": [
    {
     "data": {
      "text/plain": [
       "[Column<b'CASE WHEN (a_name = b_name) THEN true ELSE false END AS `name_is_match`'>,\n",
       " Column<b'CASE WHEN (a_age = b_age) THEN true ELSE false END AS `age_is_match`'>]"
      ]
     },
     "execution_count": 61,
     "metadata": {},
     "output_type": "execute_result"
    }
   ],
   "source": [
    "from pyspark.sql.functions import when\n",
    "comparison_exprs = [\n",
    "        when(col(f\"a_{col_name}\") == col(f\"b_{col_name}\"), True).otherwise(False).alias(col_name+\"_is_match\")\n",
    "        for col_name in columns_to_compare\n",
    "]\n",
    "comparison_exprs\n",
    "\n"
   ]
  },
  {
   "cell_type": "code",
   "execution_count": 62,
   "metadata": {},
   "outputs": [
    {
     "name": "stdout",
     "output_type": "stream",
     "text": [
      "+---+-------+-----+-------+-----+-------------+------------+\n",
      "| id| a_name|a_age| b_name|b_age|name_is_match|age_is_match|\n",
      "+---+-------+-----+-------+-----+-------------+------------+\n",
      "|  1|  Alice|   30|  Alice|   30|         true|        true|\n",
      "|  3|Charlie|   25|Charlie|   25|         true|        true|\n",
      "|  2|    Bob| null|    Bob|   28|         true|       false|\n",
      "+---+-------+-----+-------+-----+-------------+------------+\n",
      "\n"
     ]
    }
   ],
   "source": [
    "#    compared_df = joined_df.select(\"*\", *comparison_exprs)\n",
    "joined_df.select(\"*\", *comparison_exprs).show()"
   ]
  },
  {
   "cell_type": "code",
   "execution_count": null,
   "metadata": {},
   "outputs": [],
   "source": []
  }
 ],
 "metadata": {
  "kernelspec": {
   "display_name": "de-venv",
   "language": "python",
   "name": "python3"
  },
  "language_info": {
   "codemirror_mode": {
    "name": "ipython",
    "version": 3
   },
   "file_extension": ".py",
   "mimetype": "text/x-python",
   "name": "python",
   "nbconvert_exporter": "python",
   "pygments_lexer": "ipython3",
   "version": "3.7.3"
  },
  "orig_nbformat": 4
 },
 "nbformat": 4,
 "nbformat_minor": 2
}
